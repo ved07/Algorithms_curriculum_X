{
  "nbformat": 4,
  "nbformat_minor": 0,
  "metadata": {
    "colab": {
      "provenance": [],
      "collapsed_sections": [
        "PUoi3sE9wAoY"
      ],
      "include_colab_link": true
    },
    "kernelspec": {
      "name": "python3",
      "display_name": "Python 3"
    },
    "language_info": {
      "name": "python"
    }
  },
  "cells": [
    {
      "cell_type": "markdown",
      "metadata": {
        "id": "view-in-github",
        "colab_type": "text"
      },
      "source": [
        "<a href=\"https://colab.research.google.com/github/ved07/Algorithms_curriculum_X/blob/master/Copy_of_Lesson_4_Conditionals_and_For_Loops.ipynb\" target=\"_parent\"><img src=\"https://colab.research.google.com/assets/colab-badge.svg\" alt=\"Open In Colab\"/></a>"
      ]
    },
    {
      "cell_type": "markdown",
      "source": [
        "#Starter\n",
        "\n",
        "Below are some problems recapping the previous sessions work. "
      ],
      "metadata": {
        "id": "PUoi3sE9wAoY"
      }
    },
    {
      "cell_type": "code",
      "execution_count": null,
      "metadata": {
        "id": "Zttz4eervzbH"
      },
      "outputs": [],
      "source": [
        "# Predict the output for the code <<5*2==(5//2)>>\n",
        "# Check solution with Python."
      ]
    },
    {
      "cell_type": "code",
      "source": [
        "5*(2==(5//2))"
      ],
      "metadata": {
        "id": "qB94sjy53Axi"
      },
      "execution_count": null,
      "outputs": []
    },
    {
      "cell_type": "code",
      "source": [
        "# Predict the output for the code <<-1%5>>\n",
        "# Check the solution with Python."
      ],
      "metadata": {
        "id": "T1_j_u0ov-cC"
      },
      "execution_count": null,
      "outputs": []
    },
    {
      "cell_type": "code",
      "source": [
        "-1%5"
      ],
      "metadata": {
        "id": "pcnRMSnH3QoU"
      },
      "execution_count": null,
      "outputs": []
    },
    {
      "cell_type": "code",
      "source": [
        "# Predict the solution for the code <<5+4+3+2+1>>\n",
        "# Check the solution in Python."
      ],
      "metadata": {
        "id": "dWePEDB0v-vD"
      },
      "execution_count": null,
      "outputs": []
    },
    {
      "cell_type": "code",
      "source": [
        "5+4+3+2+1"
      ],
      "metadata": {
        "id": "gDqehdzG3XUZ"
      },
      "execution_count": null,
      "outputs": []
    },
    {
      "cell_type": "markdown",
      "source": [
        "#Lesson Work\n",
        "\n",
        "This session we will work on using conditionals and loops. \n",
        "\n",
        "# **Conditional Statements**\n",
        "\n",
        "A conditional statement is one that returns True or False upon evaluation. For example is 2 the same as 2 would elicit a True response (it checks if something is true or not). It then runs any code in an indented block below it. (To check if something is equal in python we use a double equal sign == and to ask if something is NOT true, we put not in front of it\n",
        "\n",
        "```\n",
        "if a == b:\n",
        "  print(\"are equal\")\n",
        "```\n",
        "\n",
        "\n",
        "Conditionals use if to denote the first conditional, then else to catch any other cases. You can also use elif to check for other cases e.g.\n",
        "\n",
        "```\n",
        "if a == 1:\n",
        "  print(\"equal to 1\")\n",
        "elif a == 2:\n",
        "  print(\"equal to 2\")\n",
        "else:\n",
        "  print(\"not equal\")\n",
        "```"
      ],
      "metadata": {
        "id": "hYeYpkqMxlzj"
      }
    },
    {
      "cell_type": "code",
      "source": [
        "# easy example of conditionals, test for different values of a and b\n",
        "a = 2\n",
        "b = 4\n",
        "if (a==b):\n",
        "  print(\"a is equal to b\")\n",
        "else:\n",
        "  print(\"a is not equal to b\")"
      ],
      "metadata": {
        "id": "rPsYeVD3yuoK"
      },
      "execution_count": null,
      "outputs": []
    },
    {
      "cell_type": "code",
      "source": [
        "# if you only change the letter a and not b this should only return one thing\n",
        "a = 2\n",
        "b = a**2\n",
        "if b/a > a:\n",
        "  print(\"b/a > a\")\n",
        "elif b/a < a:\n",
        "  print(\"b/a < a\")\n",
        "else print(\"b/a = a\")\n"
      ],
      "metadata": {
        "id": "Pg3uyN6iR90R"
      },
      "execution_count": null,
      "outputs": []
    },
    {
      "cell_type": "markdown",
      "source": [
        "\n",
        "# **Iteration**\n",
        "\n",
        "A loop is a section of code that is run repeatedly while a conditional statement returns True.\n",
        "\n",
        "Loops are based on two key programming fundamentals, definite and indefinite iteration. Definite iteration involves repeating a section of code a fixed number of times. Indefinite iteration occurs until a fixed condition is met.\n",
        "\n",
        "### **Indefinite Iteration**\n",
        "\n",
        "In Python definite iteration is done using for loops e.g.\n",
        "\n",
        "```\n",
        "for x in range(12):\n",
        "  print(x)\n",
        "```\n",
        "This will set x equal to each of the 12 values from 0 to 11 (inclusive), and print them.\n",
        "\n",
        " Imagine x beginning at 0 and moving through the range 0 to 11 and at every time the block indented under the for loop is completed, x moves one along the range.\n",
        "\n",
        "### **The range() function**\n",
        "The range() function is unique. It provides an \"iterable\" (or something you can for loop through) based on the inputs provided to it. \n",
        "\n",
        "you can either pass one value e.g. range(n), then it will iterate from values 0 to n, two values e.g. range(a,b) then it will iterate from a to b-1, or three values range(a, b, i) in which case it will iterate from a to less than or equal to b-1 in increments of i. \n"
      ],
      "metadata": {
        "id": "sXextw6ARXEx"
      }
    },
    {
      "cell_type": "code",
      "source": [
        "# here we iterate through all the numbers from 0 to 9 and check if they are odd, see if you can make this loop code always happy by adding an increment term at the end\n",
        "for i in range(0, 10):\n",
        "  if (i%2==0):\n",
        "    print(f\"HAPPINESS!!! {i} is an even number\")\n",
        "  else:\n",
        "    print(f\"eww {i} is an odd number\")"
      ],
      "metadata": {
        "id": "KLPK6cuizHPJ"
      },
      "execution_count": null,
      "outputs": []
    },
    {
      "cell_type": "code",
      "source": [
        "# here we see the code print out every multiple of 5 from 0 to 100 excluding 100\n",
        "for i in range(0,100, 5): print(i)"
      ],
      "metadata": {
        "id": "RxsC60RsTsCV"
      },
      "execution_count": null,
      "outputs": []
    },
    {
      "cell_type": "markdown",
      "source": [
        "### **Indefinite Iteration**\n",
        "\n",
        "Indefinite iteration in Python works using while loops. The indented block of code repeats while a certain condition is met e.g.\n",
        "\n",
        "```\n",
        "ved = \"cool\"\n",
        "while ved == \"cool\":\n",
        "  print(\"ved is cool\")\n",
        "\n",
        "```\n",
        "Now this while loop will go on forever (because ved is always cool), but the main logic is evident."
      ],
      "metadata": {
        "id": "7P_TMuN3T9NZ"
      }
    },
    {
      "cell_type": "code",
      "source": [
        "# run this code to let the fact sink in, do not try making ved \"not cool\" as that would be lying\n",
        "ved = \"cool\"\n",
        "while ved == \"cool\":\n",
        "  print(\"ved is cool\")"
      ],
      "metadata": {
        "id": "5OgfUAS_VqJQ"
      },
      "execution_count": null,
      "outputs": []
    },
    {
      "cell_type": "code",
      "source": [
        "# Below is a for loop that keeps repeating until the name is longer than 10 letters, (len(n) will check the length of whatever n is provided it is a string or list)\n",
        "name = \"john\"\n",
        "while (len(name)<10):\n",
        "  name+=\"a\"\n",
        "print(name)"
      ],
      "metadata": {
        "id": "kIOivfvoy0CO"
      },
      "execution_count": null,
      "outputs": []
    },
    {
      "cell_type": "markdown",
      "source": [
        "# Main Exercises\n",
        "\n",
        "Below is a set of 10 problems to do with Loops and Conditionals.\n",
        "\n",
        "Please attempt them to the best of your ability, do not be afraid to ask questions or ask for help.\n",
        "\n",
        "Some of these problems will stretch you a little, try your best!"
      ],
      "metadata": {
        "id": "WLTrWRMYzJF1"
      }
    },
    {
      "cell_type": "code",
      "source": [
        "# Problem 1: Sum of Naturals\n",
        "# Find the sum of the series: 1+2+3+...+498+499+500"
      ],
      "metadata": {
        "id": "bXx1y8vF8PmQ"
      },
      "execution_count": null,
      "outputs": []
    },
    {
      "cell_type": "code",
      "source": [
        "# Problem 2: Factorial\n",
        "# Compute the factorial of 15 using a for loop\n",
        "# (1*2*...*14*15)"
      ],
      "metadata": {
        "id": "a7E4uDmx7qeL"
      },
      "execution_count": null,
      "outputs": []
    },
    {
      "cell_type": "code",
      "source": [
        "# Problem 3: Counting in 5s\n",
        "# Continue the sequence 5 10 15 ... until you reach a number bigger than 199"
      ],
      "metadata": {
        "id": "HIDm2Lsb9WpS"
      },
      "execution_count": null,
      "outputs": []
    },
    {
      "cell_type": "code",
      "source": [
        "# Problem 4: Count down\n",
        "# Count down from 100 skipping every number that ends in a zero."
      ],
      "metadata": {
        "id": "6P72lwCg-2yc"
      },
      "execution_count": null,
      "outputs": []
    },
    {
      "cell_type": "code",
      "source": [
        "# Problem 5: FizzBuzz\n",
        "# For every positive integer up to 100:\n",
        "# If the number is divisible by both 3 and 5 print fizzbuzz\n",
        "# Else if the number is divisible by 3 print fizz\n",
        "# Else if the number is divisible by 5 print buzz\n",
        "# Else print the number"
      ],
      "metadata": {
        "id": "CKdJuagE0A84"
      },
      "execution_count": null,
      "outputs": []
    },
    {
      "cell_type": "code",
      "source": [
        "# Problem 6: Prime Numbers (You should probably research how you can check if a number is prime)\n",
        "# Deduce whether 911 is a prime number (a number with only 2 factors)"
      ],
      "metadata": {
        "id": "9PWCG9oc8twj"
      },
      "execution_count": null,
      "outputs": []
    },
    {
      "cell_type": "code",
      "source": [
        "# Problem 7: Generating Primes\n",
        "# Generate and print the first 50 prime numbers (a number with only 2 factors)"
      ],
      "metadata": {
        "id": "QqycGIuh9Kee"
      },
      "execution_count": null,
      "outputs": []
    },
    {
      "cell_type": "code",
      "source": [
        "# Problem 8: Fibonacci Numbers\n",
        "# The sequence starts 0, 1, 1, 2, 3, 5, 8, 13, 21 ...\n",
        "# Deduce a pattern and calculate the first 50 fibonacci numbers"
      ],
      "metadata": {
        "id": "_u5XI5kE74fR"
      },
      "execution_count": null,
      "outputs": []
    },
    {
      "cell_type": "code",
      "source": [
        "# Problem 9: Collatz Conjecture\n",
        "# The fuction is defined as follows:\n",
        "# For a given integer: if it is even, half it, else if it is odd, triple it and add 1.\n",
        "# Print the path of this function for input of 19"
      ],
      "metadata": {
        "id": "ZMLn8mi-zu4P"
      },
      "execution_count": null,
      "outputs": []
    },
    {
      "cell_type": "code",
      "source": [
        "# Problem 10: Binary representation\n",
        "# Deduce the binary representation of 151 (keep dividing by powers of two and see how the remainders behave)"
      ],
      "metadata": {
        "id": "OTlvgnKm-Rdt"
      },
      "execution_count": null,
      "outputs": []
    }
  ]
}